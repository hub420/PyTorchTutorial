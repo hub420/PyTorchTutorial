{
  "nbformat": 4,
  "nbformat_minor": 0,
  "metadata": {
    "colab": {
      "provenance": [],
      "authorship_tag": "ABX9TyP0JsD6eYRKeqrcYcv2WYaO",
      "include_colab_link": true
    },
    "kernelspec": {
      "name": "python3",
      "display_name": "Python 3"
    },
    "language_info": {
      "name": "python"
    }
  },
  "cells": [
    {
      "cell_type": "markdown",
      "metadata": {
        "id": "view-in-github",
        "colab_type": "text"
      },
      "source": [
        "<a href=\"https://colab.research.google.com/github/hub420/PyTorchTutorial/blob/main/Simple_NeuralNetwork.ipynb\" target=\"_parent\"><img src=\"https://colab.research.google.com/assets/colab-badge.svg\" alt=\"Open In Colab\"/></a>"
      ]
    },
    {
      "cell_type": "code",
      "execution_count": 1,
      "metadata": {
        "id": "N6b8D3qaPP4O"
      },
      "outputs": [],
      "source": [
        "import torch\n",
        "import torch.nn as nn\n",
        "import torch.nn.functional as F"
      ]
    },
    {
      "cell_type": "code",
      "source": [
        "# Create a model class that inherits module\n",
        "# usamos oop\n",
        "class Model(nn.Module):\n",
        "  #input layer (4 features of the flower) -->\n",
        "  #Hidden layer1 (number of neurons) -->\n",
        "  #H2(N) -->\n",
        "  #output (3 classes of iris flowers)\n",
        "  def __init__(self, input_features=4, h1=8, h2=9, output_featuares=3):\n",
        "    super().__init__() #instancia el modulo nn\n",
        "    self.fc1 = nn.Linear(input_features, h1) # fc fully conected\n",
        "    self.fc2 = nn.Linear(h1, h2)\n",
        "    self.out = nn.Linear(h2, output_featuares)\n",
        "\n",
        "  def forward(self,x):\n",
        "    x = F.relu(self.fc1(x))\n",
        "    x = F.relu(self.fc2(x))\n",
        "    x = self.out(x)\n",
        "\n",
        "    return x\n"
      ],
      "metadata": {
        "id": "Cp1FaqDeRaIk"
      },
      "execution_count": 5,
      "outputs": []
    },
    {
      "cell_type": "code",
      "source": [
        "# Pick a manual seed for randomization\n",
        "torch.manual_seed(9)\n",
        "# create instance of model\n",
        "model = Model()"
      ],
      "metadata": {
        "id": "Q77I4qBTayhK"
      },
      "execution_count": 6,
      "outputs": []
    },
    {
      "cell_type": "code",
      "source": [
        "import pandas as pd\n",
        "import matplotlib.pyplot as plt\n",
        "%matplotlib inline"
      ],
      "metadata": {
        "id": "lPN_lBO9beOk"
      },
      "execution_count": 7,
      "outputs": []
    },
    {
      "cell_type": "code",
      "source": [
        "#cargar la base de datos\n",
        "url = 'https://gist.githubusercontent.com/netj/8836201/raw/6f9306ad21398ea43cba4f7d537619d0e07d5ae3/iris.csv'\n",
        "my_df = pd.read_csv(url)"
      ],
      "metadata": {
        "id": "yl8QqH56cQz3"
      },
      "execution_count": 8,
      "outputs": []
    },
    {
      "cell_type": "code",
      "source": [
        "#llamo a la base de datos\n",
        "my_df"
      ],
      "metadata": {
        "id": "yH09ISOxeGdn"
      },
      "execution_count": null,
      "outputs": []
    },
    {
      "cell_type": "code",
      "source": [
        "#cambiar columna de strings a numeros de la BD\n",
        "my_df['variety'] = my_df['variety'].replace('Setosa', 0.0)\n",
        "my_df['variety'] = my_df['variety'].replace('Versicolor', 1.0)\n",
        "my_df['variety'] = my_df['variety'].replace('Virginica', 2.0)\n",
        "my_df"
      ],
      "metadata": {
        "id": "OTD-gBiQedMt"
      },
      "execution_count": null,
      "outputs": []
    },
    {
      "cell_type": "code",
      "source": [
        "#Train test split  Set X, y  Osea elimina la columna\n",
        "X = my_df.drop('variety', axis = 1)\n",
        "y = my_df['variety']"
      ],
      "metadata": {
        "id": "xlkepq-HfPUD"
      },
      "execution_count": 12,
      "outputs": []
    },
    {
      "cell_type": "code",
      "source": [
        "#convert these to numpy arrays\n",
        "X = X.values\n",
        "y = y.values"
      ],
      "metadata": {
        "id": "pDAgZsorgPno"
      },
      "execution_count": 15,
      "outputs": []
    },
    {
      "cell_type": "code",
      "source": [
        "#desplegar el numpy array\n",
        "X,y"
      ],
      "metadata": {
        "id": "G1Uro1eLhBgl"
      },
      "execution_count": null,
      "outputs": []
    },
    {
      "cell_type": "code",
      "source": [
        "from sklearn.model_selection import train_test_split"
      ],
      "metadata": {
        "id": "mvl_0D5bhQKu"
      },
      "execution_count": 18,
      "outputs": []
    },
    {
      "cell_type": "code",
      "source": [
        "#train test split\n",
        "X_train, X_test, y_train, y_test = train_test_split(X, y, test_size=0.2, random_state=41)"
      ],
      "metadata": {
        "id": "PF5-wK3dhgtV"
      },
      "execution_count": 19,
      "outputs": []
    },
    {
      "cell_type": "code",
      "source": [
        "#Convert X features to float tensors\n",
        "X_train = torch.FloatTensor(X_train)\n",
        "X_test = torch.FloatTensor(X_test)"
      ],
      "metadata": {
        "id": "0SpACigbkKqu"
      },
      "execution_count": 20,
      "outputs": []
    },
    {
      "cell_type": "code",
      "source": [
        "#Convert y labels to tensors long\n",
        "y_train = torch.LongTensor(y_train)\n",
        "y_test = torch.LongTensor(y_test)"
      ],
      "metadata": {
        "id": "mN8WCwSskxIN"
      },
      "execution_count": 21,
      "outputs": []
    },
    {
      "cell_type": "code",
      "source": [
        "# set the criterion of model to mesure the error, how far off the predictions are from.\n",
        "criterion = nn.CrossEntropyLoss()\n",
        "# choose adam optimizer, lr = learning rate (if error doesn't go down after a bunch of iterations (epochs),lower our learnig rate)\n",
        "optimizer = torch.optim.Adam(model.parameters(), lr=0.01)"
      ],
      "metadata": {
        "id": "0H9gYUzGlUpD"
      },
      "execution_count": 22,
      "outputs": []
    },
    {
      "cell_type": "code",
      "source": [
        "# para ver los modelos\n",
        "model.parameters"
      ],
      "metadata": {
        "id": "eEn_dXBSnFyw"
      },
      "execution_count": null,
      "outputs": []
    },
    {
      "cell_type": "code",
      "source": [
        "#Train our model\n",
        "#Epochs = one run thru all the training data in our network\n",
        "epochs = 100\n",
        "#keep track of the errors\n",
        "losses = []\n",
        "for i in range(epoch):\n",
        "  # go forward and get a prediction\n",
        "  y_pred = model.forward(X_train) # get predicted results\n",
        "\n",
        "  # Messaru the errors/loss gonna be high at first"
      ],
      "metadata": {
        "id": "2yXCqynsnQhW"
      },
      "execution_count": null,
      "outputs": []
    }
  ]
}